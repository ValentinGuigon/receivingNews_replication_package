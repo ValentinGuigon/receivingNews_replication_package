{
 "cells": [
  {
   "cell_type": "code",
   "execution_count": null,
   "metadata": {},
   "outputs": [],
   "source": [
    "import pandas as pd\n",
    "import numpy as np\n",
    "import matplotlib.pyplot as plt \n",
    "import seaborn as sns\n",
    "from tqdm.notebook import tqdm\n",
    "import openpyxl"
   ]
  },
  {
   "cell_type": "code",
   "execution_count": 170,
   "metadata": {},
   "outputs": [
    {
     "name": "stdout",
     "output_type": "stream",
     "text": [
      "     Id                                               News Truthfulness Theme\n",
      "0     1  La Chine, l'Inde et les Etats Unis, les plus g...       FAUSSE  Just\n",
      "1     2  Une plainte a pu être déposée contre plusieurs...        VRAIE  Ecol\n",
      "2     7  La France soutient encore les énergies fossile...        VRAIE  Ecol\n",
      "3    12  Malgré le Dieselgate, le système de contrôle d...       FAUSSE  Ecol\n",
      "4    19  En France, seuls 10% des déchets plastiques so...       FAUSSE  Ecol\n",
      "..  ...                                                ...          ...   ...\n",
      "91  192  Les émissions françaises de gaz à effet de ser...       FAUSSE  Ecol\n",
      "92  194  La nouvelle application mobile de prise de not...        VRAIE  Demo\n",
      "93  205  Le gouvernement promet, via l'application ALIC...        VRAIE  Demo\n",
      "94  206  La reconnaissance faciale sera bientôt obligat...       FAUSSE  Demo\n",
      "95  209  Nous pourrions devenir le premier pays europée...        VRAIE  Demo\n",
      "\n",
      "[96 rows x 4 columns]\n"
     ]
    }
   ],
   "source": [
    "plt.style.use('ggplot')\n",
    "df = pd.read_excel('../../stimuli/Stimuli_list.xlsx', engine='openpyxl', sheet_name=0, header=None, usecols=[0, 1, 2, 5], names=['Id', 'News', 'Truthfulness', 'Theme'])\n",
    "print(df)"
   ]
  },
  {
   "cell_type": "code",
   "execution_count": 171,
   "metadata": {},
   "outputs": [],
   "source": [
    "df = df.astype({'News':'string'})\n",
    "\n",
    "df['Truthfulness'] = df['Truthfulness'].replace('VRAIE','True')\n",
    "df['Truthfulness'] = df['Truthfulness'].replace('FAUSSE','False')\n",
    "\n",
    "df_true = df[df['Truthfulness']=='True']\n",
    "df_false = df[df['Truthfulness']=='False']"
   ]
  },
  {
   "cell_type": "code",
   "execution_count": 158,
   "metadata": {},
   "outputs": [],
   "source": [
    "from transformers import AutoModelForSequenceClassification\n",
    "from transformers import TFAutoModelForSequenceClassification\n",
    "from transformers import AutoTokenizer, AutoConfig\n",
    "from scipy.special import softmax\n",
    "\n",
    "MODEL  = f\"citizenlab/twitter-xlm-roberta-base-sentiment-finetunned\"\n",
    "tokenizer = AutoTokenizer.from_pretrained(MODEL)\n",
    "config = AutoConfig.from_pretrained(MODEL)\n",
    "\n",
    "model = AutoModelForSequenceClassification.from_pretrained(MODEL)"
   ]
  },
  {
   "cell_type": "code",
   "execution_count": 159,
   "metadata": {},
   "outputs": [],
   "source": [
    "def polarity_scores_roberta(text):\n",
    "    encoded_text = tokenizer(text, return_tensors='pt') # pt for pyTorch tensors\n",
    "    output = model(**encoded_text)\n",
    "    scores = output[0][0].detach().numpy() # transform tensor into numpy\n",
    "    scores = softmax(scores)\n",
    "    scores_dict = {\n",
    "    'roberta_neg' : scores[0],\n",
    "    'roberta_neu' : scores[1],\n",
    "    'roberta_pos' : scores[2]\n",
    "    }\n",
    "    return scores_dict"
   ]
  },
  {
   "cell_type": "code",
   "execution_count": 172,
   "metadata": {},
   "outputs": [
    {
     "data": {
      "application/vnd.jupyter.widget-view+json": {
       "model_id": "9a6fe8196f6e4b70ae35bf8d3c1b6732",
       "version_major": 2,
       "version_minor": 0
      },
      "text/plain": [
       "  0%|          | 0/48 [00:00<?, ?it/s]"
      ]
     },
     "metadata": {},
     "output_type": "display_data"
    },
    {
     "data": {
      "text/plain": [
       "'48'"
      ]
     },
     "execution_count": 172,
     "metadata": {},
     "output_type": "execute_result"
    }
   ],
   "source": [
    "res_false = {}\n",
    "for i, row in tqdm(df_false.iterrows(), total=len(df_false)):\n",
    "    try:\n",
    "        text = row['News']\n",
    "        myid = row['Id']\n",
    "        roberta_result = polarity_scores_roberta(text)\n",
    "        res_false[myid] = {**roberta_result}\n",
    "    except RuntimeError:\n",
    "        print(f'Broke for id {myid}') # It breaks because of the size of the data (tweet too long for the model)\n",
    "format(len(res_false))"
   ]
  },
  {
   "cell_type": "code",
   "execution_count": 173,
   "metadata": {},
   "outputs": [
    {
     "data": {
      "application/vnd.jupyter.widget-view+json": {
       "model_id": "ee5240cfc30244a98d4afdccfa9ca7cd",
       "version_major": 2,
       "version_minor": 0
      },
      "text/plain": [
       "  0%|          | 0/48 [00:00<?, ?it/s]"
      ]
     },
     "metadata": {},
     "output_type": "display_data"
    },
    {
     "data": {
      "text/plain": [
       "'48'"
      ]
     },
     "execution_count": 173,
     "metadata": {},
     "output_type": "execute_result"
    }
   ],
   "source": [
    "res_true = {}\n",
    "for i, row in tqdm(df_true.iterrows(), total=len(df_true)):\n",
    "    try:\n",
    "        text = row['News']\n",
    "        myid = row['Id']\n",
    "        roberta_result = polarity_scores_roberta(text)\n",
    "        res_true[myid] = {**roberta_result}\n",
    "    except RuntimeError:\n",
    "        print(f'Broke for id {myid}') # It breaks because of the size of the data (tweet too long for the model)\n",
    "format(len(res_true))"
   ]
  },
  {
   "cell_type": "code",
   "execution_count": 174,
   "metadata": {},
   "outputs": [],
   "source": [
    "results_df_false = pd.DataFrame(res_false).T\n",
    "results_df_true = pd.DataFrame(res_true).T\n",
    "\n",
    "results_df_false = results_df_false.reset_index().rename(columns={'index': 'Id'})\n",
    "results_df_true = results_df_true.reset_index().rename(columns={'index': 'Id'})\n",
    "\n",
    "results_df = pd.concat([results_df_false,results_df_true])\n",
    "results_df = results_df.merge(df, how='left')"
   ]
  },
  {
   "cell_type": "code",
   "execution_count": 200,
   "metadata": {},
   "outputs": [
    {
     "data": {
      "image/png": "[encoded data removed]",
      "text/plain": [
       "<Figure size 1200x300 with 3 Axes>"
      ]
     },
     "metadata": {},
     "output_type": "display_data"
    }
   ],
   "source": [
    "fig, axs = plt.subplots(1, 3, figsize=(12, 3))\n",
    "\n",
    "sns.kdeplot(ax=axs[0], data=results_df, x=\"roberta_neg\", hue=\"Truthfulness\",\n",
    "   fill=True, common_norm=False, alpha=.5, linewidth=0)\n",
    "sns.move_legend(axs[0], \"lower center\",\n",
    "    bbox_to_anchor=(.5, 1), ncol=3, title=None, frameon=False)\n",
    "\n",
    "sns.kdeplot(ax=axs[1], data=results_df, x=\"roberta_neu\", hue=\"Truthfulness\",\n",
    "   fill=True, common_norm=False, alpha=.5, linewidth=0)\n",
    "sns.move_legend(axs[1], \"lower center\",\n",
    "    bbox_to_anchor=(.5, 1), ncol=3, title=None, frameon=False)\n",
    "\n",
    "sns.kdeplot(ax=axs[2], data=results_df, x=\"roberta_pos\", hue=\"Truthfulness\",\n",
    "   fill=True, common_norm=False, alpha=.5, linewidth=0)\n",
    "sns.move_legend(axs[2], \"lower center\",\n",
    "    bbox_to_anchor=(.5, 1), ncol=3, title=None, frameon=False)"
   ]
  }
 ],
 "metadata": {
  "kernelspec": {
   "display_name": "venv",
   "language": "python",
   "name": "python3"
  },
  "language_info": {
   "codemirror_mode": {
    "name": "ipython",
    "version": 3
   },
   "file_extension": ".py",
   "mimetype": "text/x-python",
   "name": "python",
   "nbconvert_exporter": "python",
   "pygments_lexer": "ipython3",
   "version": "3.11.0"
  },
  "orig_nbformat": 4
 },
 "nbformat": 4,
 "nbformat_minor": 2
}
